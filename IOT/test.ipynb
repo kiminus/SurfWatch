{
 "cells": [
  {
   "cell_type": "code",
   "execution_count": 4,
   "id": "e0178ffa",
   "metadata": {},
   "outputs": [],
   "source": [
    "import requests\n",
    "import json\n",
    "from datetime import datetime, timezone\n",
    "SERVER_IP = \"127.0.0.1\" \n",
    "SERVER_PORT = 8000\n",
    "ENDPOINT_URL = f\"http://{SERVER_IP}:{SERVER_PORT}/cam\"\n",
    "\n",
    "IMAGE_PATH = \"C:\\\\Users\\\\user\\\\Documents\\\\dev\\\\SurfWatch\\\\AI\\\\train\\\\Surfer-Spotting-2\\\\test\\\\images\\\\VenicePierSouthside_2021_03_30_1103am_frame_14_right_jpg.rf.da28fd2634165f5c1f9c68bf104c0833.jpg\"\n",
    "IMAGE_FILENAME = \"test_image.jpg\"\n",
    "CROWDEDNESS = 100"
   ]
  },
  {
   "cell_type": "code",
   "execution_count": 2,
   "id": "d6fa28c0",
   "metadata": {},
   "outputs": [],
   "source": [
    "def create_payload_data(crowdedness: int):\n",
    "    \"\"\"Creates the JSON payload for RawCrowdnessReading\"\"\"\n",
    "    return {\n",
    "        \"time\": datetime.now(timezone.utc).isoformat(), \n",
    "        \"site_id\": 1,\n",
    "        \"crowdness\": crowdedness\n",
    "    }\n"
   ]
  },
  {
   "cell_type": "code",
   "execution_count": 5,
   "id": "93a72e9d",
   "metadata": {},
   "outputs": [
    {
     "name": "stdout",
     "output_type": "stream",
     "text": [
      "\n",
      "Response Status Code: 500\n",
      "Response JSON:\n",
      "Response Content (not JSON):\n",
      "Internal Server Error\n",
      "\n",
      "Upload failed.\n"
     ]
    }
   ],
   "source": [
    "payload_dict = create_payload_data(crowdedness=CROWDEDNESS)\n",
    "payload_json_string = json.dumps(payload_dict)\n",
    "files_to_upload = {\n",
    "    'image': (IMAGE_FILENAME, open(IMAGE_PATH, 'rb'), \"image/jpeg\"),\n",
    "    'data': (None, payload_json_string)\n",
    "}\n",
    "try:\n",
    "    response = requests.put(ENDPOINT_URL, files=files_to_upload)\n",
    "\n",
    "    print(f\"\\nResponse Status Code: {response.status_code}\")\n",
    "    try:\n",
    "        print(\"Response JSON:\")\n",
    "        print(response.json())\n",
    "    except requests.exceptions.JSONDecodeError:\n",
    "        print(\"Response Content (not JSON):\")\n",
    "        print(response.text)\n",
    "\n",
    "    if response.status_code == 200 or response.status_code == 201:\n",
    "        print(\"\\nData and image uploaded \")\n",
    "    else:\n",
    "        print(\"\\nUpload failed.\")\n",
    "\n",
    "except requests.exceptions.ConnectionError as e:\n",
    "    print(f\"\\nConnection Error: Could not connect to the server at {ENDPOINT_URL}\")\n",
    "except Exception as e:\n",
    "    print(f\"\\nAn error occurred: {e}\")"
   ]
  }
 ],
 "metadata": {
  "kernelspec": {
   "display_name": "base",
   "language": "python",
   "name": "python3"
  },
  "language_info": {
   "codemirror_mode": {
    "name": "ipython",
    "version": 3
   },
   "file_extension": ".py",
   "mimetype": "text/x-python",
   "name": "python",
   "nbconvert_exporter": "python",
   "pygments_lexer": "ipython3",
   "version": "3.12.7"
  }
 },
 "nbformat": 4,
 "nbformat_minor": 5
}
