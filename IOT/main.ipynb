{
 "cells": [
  {
   "cell_type": "code",
   "execution_count": 1,
   "id": "03cdd7e4",
   "metadata": {},
   "outputs": [],
   "source": [
    "from capture import record, take_photo_at_resolution\n",
    "from rec import send_data"
   ]
  },
  {
   "cell_type": "code",
   "execution_count": 2,
   "id": "f0ac606f",
   "metadata": {},
   "outputs": [
    {
     "name": "stdout",
     "output_type": "stream",
     "text": [
      "set autofocus\n",
      "10.0\n",
      "1280 720\n",
      "Recording original video for 2 seconds...\n",
      "Original recording finished. Duration: 2.03s. Frames: 9\n",
      "Actual resolution set by camera: 2560x1440\n",
      "Autofocus enabled\n",
      "Waiting for focus/exposure\n",
      "Capturing final image...\n",
      "Camera released.\n",
      "Photo successfully saved as image/image_20250601_132859.jpg\n",
      "\n",
      "Response Status Code: 200\n",
      "Response JSON:\n",
      "{'message': 'Files received successfully', 'uploaded_files_details': {'image': {'filename': 'image_20250601_132859.jpg', 'content_type': 'image/jpeg', 'saved_path': 'uploaded_files/image_20250601_132859.jpg'}, 'video': {'filename': 'video_20250601_132857.mp4', 'content_type': 'video/mp4', 'saved_path': 'uploaded_files/video_20250601_132857.mp4'}}}\n",
      "\n",
      "Image and video uploaded successfully.\n"
     ]
    }
   ],
   "source": [
    "video_path = record(\n",
    "    duration_seconds=2,\n",
    ")\n",
    "image_path = take_photo_at_resolution()\n",
    "send_data(\n",
    "    image_path=image_path,\n",
    "    video_path=video_path,\n",
    ")"
   ]
  }
 ],
 "metadata": {
  "kernelspec": {
   "display_name": "140",
   "language": "python",
   "name": "python3"
  },
  "language_info": {
   "codemirror_mode": {
    "name": "ipython",
    "version": 3
   },
   "file_extension": ".py",
   "mimetype": "text/x-python",
   "name": "python",
   "nbconvert_exporter": "python",
   "pygments_lexer": "ipython3",
   "version": "3.10.16"
  }
 },
 "nbformat": 4,
 "nbformat_minor": 5
}
