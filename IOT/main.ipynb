{
 "cells": [
  {
   "cell_type": "code",
   "execution_count": 1,
   "id": "146d659b",
   "metadata": {},
   "outputs": [],
   "source": [
    "from datetime import datetime"
   ]
  },
  {
   "cell_type": "code",
   "execution_count": 3,
   "id": "47a54669",
   "metadata": {},
   "outputs": [
    {
     "data": {
      "text/plain": [
       "str"
      ]
     },
     "execution_count": 3,
     "metadata": {},
     "output_type": "execute_result"
    }
   ],
   "source": [
    "type(datetime.now().isoformat())"
   ]
  },
  {
   "cell_type": "code",
   "execution_count": 9,
   "id": "22fdb22d",
   "metadata": {},
   "outputs": [],
   "source": [
    "from typing import Optional\n",
    "from pydantic import BaseModel, ConfigDict\n",
    "from datetime import datetime\n",
    "\n",
    "class RawCrowdnessReading(BaseModel):\n",
    "    model_config = ConfigDict(\n",
    "        from_attributes=True,\n",
    "        populate_by_name=True\n",
    "    )\n",
    "    \n",
    "    id: Optional[int] = None\n",
    "    time: str\n",
    "    site_id: int\n",
    "    crowdness: int\n"
   ]
  },
  {
   "cell_type": "code",
   "execution_count": 12,
   "id": "4741fd11",
   "metadata": {},
   "outputs": [
    {
     "data": {
      "text/plain": [
       "'2025-06-09 00:17:45'"
      ]
     },
     "execution_count": 12,
     "metadata": {},
     "output_type": "execute_result"
    }
   ],
   "source": [
    "data = RawCrowdnessReading(\n",
    "    time = str(datetime.now().strftime('%Y-%m-%d %H:%M:%S')),\n",
    "    site_id=1,\n",
    "    crowdness=1,\n",
    ")\n",
    "data.time"
   ]
  },
  {
   "cell_type": "code",
   "execution_count": 1,
   "id": "03cdd7e4",
   "metadata": {},
   "outputs": [],
   "source": [
    "from capture import record, take_photo_at_resolution\n",
    "from rec import send_data"
   ]
  },
  {
   "cell_type": "code",
   "execution_count": 2,
   "id": "f0ac606f",
   "metadata": {},
   "outputs": [
    {
     "name": "stdout",
     "output_type": "stream",
     "text": [
      "set autofocus\n",
      "10.0\n",
      "1280 720\n",
      "Recording original video for 2 seconds...\n",
      "Original recording finished. Duration: 2.03s. Frames: 9\n",
      "Actual resolution set by camera: 2560x1440\n",
      "Autofocus enabled\n",
      "Waiting for focus/exposure\n",
      "Capturing final image...\n",
      "Camera released.\n",
      "Photo successfully saved as image/image_20250601_132859.jpg\n",
      "\n",
      "Response Status Code: 200\n",
      "Response JSON:\n",
      "{'message': 'Files received successfully', 'uploaded_files_details': {'image': {'filename': 'image_20250601_132859.jpg', 'content_type': 'image/jpeg', 'saved_path': 'uploaded_files/image_20250601_132859.jpg'}, 'video': {'filename': 'video_20250601_132857.mp4', 'content_type': 'video/mp4', 'saved_path': 'uploaded_files/video_20250601_132857.mp4'}}}\n",
      "\n",
      "Image and video uploaded successfully.\n"
     ]
    }
   ],
   "source": [
    "video_path = record(\n",
    "    duration_seconds=2,\n",
    ")\n",
    "image_path = take_photo_at_resolution()\n",
    "send_data(\n",
    "    image_path=image_path,\n",
    "    video_path=video_path,\n",
    ")"
   ]
  }
 ],
 "metadata": {
  "kernelspec": {
   "display_name": "140",
   "language": "python",
   "name": "python3"
  },
  "language_info": {
   "codemirror_mode": {
    "name": "ipython",
    "version": 3
   },
   "file_extension": ".py",
   "mimetype": "text/x-python",
   "name": "python",
   "nbconvert_exporter": "python",
   "pygments_lexer": "ipython3",
   "version": "3.10.16"
  }
 },
 "nbformat": 4,
 "nbformat_minor": 5
}
