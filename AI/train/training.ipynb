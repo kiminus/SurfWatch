{
 "cells": [
  {
   "cell_type": "code",
   "execution_count": 2,
   "id": "3d653cb4",
   "metadata": {},
   "outputs": [
    {
     "name": "stdout",
     "output_type": "stream",
     "text": [
      "loading Roboflow workspace...\n",
      "loading Roboflow project...\n"
     ]
    },
    {
     "name": "stderr",
     "output_type": "stream",
     "text": [
      "Downloading Dataset Version Zip in Surfer-Spotting-2 to yolov11:: 100%|██████████| 260800/260800 [00:05<00:00, 51253.37it/s]"
     ]
    },
    {
     "name": "stdout",
     "output_type": "stream",
     "text": [
      "\n"
     ]
    },
    {
     "name": "stderr",
     "output_type": "stream",
     "text": [
      "\n",
      "Extracting Dataset Version Zip to Surfer-Spotting-2 in yolov11:: 100%|██████████| 71100/71100 [00:05<00:00, 13332.94it/s]\n"
     ]
    }
   ],
   "source": [
    "from roboflow import Roboflow\n",
    "rf = Roboflow(api_key=\"Ob9mLrO3fKqDwCHJu04j\")\n",
    "project = rf.workspace(\"surfline\").project(\"surfer-spotting\")\n",
    "version = project.version(2)\n",
    "dataset = version.download(\"yolov11\")"
   ]
  },
  {
   "cell_type": "code",
   "execution_count": 9,
   "id": "89274a40",
   "metadata": {},
   "outputs": [
    {
     "name": "stdout",
     "output_type": "stream",
     "text": [
      "Using existing data configuration: /home/user/Documents/ECE140/SurfWatch/AI/train/Surfer-Spotting-2/data.yaml\n"
     ]
    }
   ],
   "source": [
    "import os\n",
    "from ultralytics import YOLO\n",
    "import yaml  # Still useful for potentially reading the yaml if needed later\n",
    "\n",
    "# --- Configuration ---\n",
    "# !! IMPORTANT: SET THIS PATH !!\n",
    "# Path to your EXISTING data.yaml file\n",
    "EXISTING_DATA_YAML_PATH = \"/home/user/Documents/ECE140/SurfWatch/AI/train/Surfer-Spotting-2/data.yaml\"\n",
    "# Note: Ensure the paths (train, val, test) INSIDE your data.yaml are correct\n",
    "# relative to the location of data.yaml itself. Your paths like '../train/images'\n",
    "# suggest data.yaml should be directly inside Surfer-Spotting-2/.\n",
    "\n",
    "# --- Output ---\n",
    "# Where YOLOv8 will save training runs (logs, weights)\n",
    "PROJECT_NAME = \"YOLOv11_Surfer_Spotting\"\n",
    "# Specific name for this training experiment\n",
    "RUN_NAME = \"yolov11m_finetune_gpu\"  # Updated run name slightly\n",
    "\n",
    "# --- Training Parameters ---\n",
    "MODEL_NAME = \"yolo11m.pt\"  # Pre-trained model to start from\n",
    "EPOCHS = 1  # Adjust as needed\n",
    "BATCH_SIZE = 16  # Adjust based on your GPU memory (may need to lower for smaller GPUs)\n",
    "IMG_SIZE = 640  # Input image size\n",
    "# Set device to '0' for the first CUDA GPU, or 'cuda' for default CUDA device\n",
    "# Set to 'cpu' to force CPU training.\n",
    "DEVICE = 0  # Or 'cuda', or specific GPU index like 1, 2 etc.\n",
    "\n",
    "# --- 1. Verify data.yaml exists ---\n",
    "if not os.path.exists(EXISTING_DATA_YAML_PATH):\n",
    "    print(f\"Error: Cannot find data.yaml at: {EXISTING_DATA_YAML_PATH}\")\n",
    "    print(\"Please ensure the path is correct.\")\n",
    "    exit()\n",
    "else:\n",
    "    print(f\"Using existing data configuration: {EXISTING_DATA_YAML_PATH}\")\n"
   ]
  },
  {
   "cell_type": "code",
   "execution_count": null,
   "id": "60f201ae",
   "metadata": {},
   "outputs": [
    {
     "name": "stdout",
     "output_type": "stream",
     "text": [
      "Loading pre-trained model: yolo11m.pt\n"
     ]
    }
   ],
   "source": [
    "print(f\"Loading pre-trained model: {MODEL_NAME}\")\n",
    "model = YOLO(MODEL_NAME)\n"
   ]
  },
  {
   "cell_type": "code",
   "execution_count": null,
   "id": "b337d294",
   "metadata": {},
   "outputs": [
    {
     "name": "stdout",
     "output_type": "stream",
     "text": [
      "Starting training on device: 0...\n",
      "Ultralytics 8.3.135 🚀 Python-3.12.10 torch-2.7.0+cu126 \n",
      "An error occurred during training: Invalid CUDA 'device=0' requested. Use 'device=cpu' or pass valid CUDA device(s) if available, i.e. 'device=0' or 'device=0,1,2,3' for Multi-GPU.\n",
      "\n",
      "torch.cuda.is_available(): False\n",
      "torch.cuda.device_count(): 0\n",
      "os.environ['CUDA_VISIBLE_DEVICES']: None\n",
      "See https://pytorch.org/get-started/locally/ for up-to-date torch install instructions if no CUDA devices are seen by torch.\n",
      "\n",
      "A CUDA-related error occurred. Ensure CUDA is installed correctly, your NVIDIA drivers are up to date, and PyTorch with CUDA support is installed.\n",
      "You can check PyTorch CUDA availability with: python -c 'import torch; print(torch.cuda.is_available())'\n",
      "\n",
      "Attempting evaluation on the test set (if defined in YAML) using device: 0...\n",
      "Could not find best model weights at YOLOv11_Surfer_Spotting/yolov11m_finetune_gpu/weights/best.pt. Skipping test set evaluation.\n",
      "\n",
      "Script finished.\n"
     ]
    }
   ],
   "source": [
    "\n",
    "\n",
    "print(f\"Starting training on device: {DEVICE}...\")\n",
    "try:\n",
    "    results = model.train(\n",
    "        data=EXISTING_DATA_YAML_PATH, \n",
    "        epochs=EPOCHS,\n",
    "        imgsz=IMG_SIZE,\n",
    "        batch=BATCH_SIZE,\n",
    "        project=PROJECT_NAME,\n",
    "        name=RUN_NAME,\n",
    "        device=DEVICE, \n",
    "    )\n",
    "    print(\"Training finished.\")\n",
    "    print(f\"Results saved to: {results.save_dir}\")\n",
    "\n",
    "except Exception as e:\n",
    "    print(f\"An error occurred during training: {e}\")\n",
    "    if \"CUDA\" in str(e):\n",
    "        print(\n",
    "            \"A CUDA-related error occurred. Ensure CUDA is installed correctly, \"\n",
    "            \"your NVIDIA drivers are up to date, and PyTorch with CUDA support is installed.\"\n",
    "        )\n",
    "        print(\n",
    "            \"You can check PyTorch CUDA availability with: python -c 'import torch; print(torch.cuda.is_available())'\"\n",
    "        )\n",
    "\n",
    "#Eval\n",
    "print(\n",
    "    f\"\\nAttempting evaluation on the test set (if defined in YAML) using device: {DEVICE}...\"\n",
    ")\n",
    "try:\n",
    "   \n",
    "    best_model_path = os.path.join(\n",
    "        PROJECT_NAME, RUN_NAME, \"weights\", \"best.pt\"\n",
    "    )\n",
    "    if os.path.exists(best_model_path):\n",
    "        print(f\"Loading best weights from: {best_model_path}\")\n",
    "        model = YOLO(best_model_path)\n",
    "        metrics = model.val(\n",
    "            data=EXISTING_DATA_YAML_PATH, split=\"test\", device=DEVICE\n",
    "        )\n",
    "\n",
    "        print(\"Test Set Evaluation Metrics:\")\n",
    "\n",
    "        print(f\"  mAP50-95: {metrics.box.map:.4f}\")\n",
    "        print(f\"  mAP50: {metrics.box.map50:.4f}\")\n",
    "        print(f\"  mAP75: {metrics.box.map75:.4f}\")\n",
    "        \n",
    "    else:\n",
    "        print(\n",
    "            f\"Could not find best model weights at {best_model_path}. Skipping test set evaluation.\"\n",
    "        )\n",
    "except Exception as e:\n",
    "    print(f\"An error occurred during test set evaluation: {e}\")\n",
    "    print(\n",
    "        \"Ensure the 'test' key and path are correctly specified in your data.yaml if you want to evaluate.\"\n",
    "    )\n",
    "\n",
    "\n",
    "print(\"\\nScript finished.\")\n"
   ]
  }
 ],
 "metadata": {
  "kernelspec": {
   "display_name": ".venv",
   "language": "python",
   "name": "python3"
  },
  "language_info": {
   "codemirror_mode": {
    "name": "ipython",
    "version": 3
   },
   "file_extension": ".py",
   "mimetype": "text/x-python",
   "name": "python",
   "nbconvert_exporter": "python",
   "pygments_lexer": "ipython3",
   "version": "3.12.10"
  }
 },
 "nbformat": 4,
 "nbformat_minor": 5
}
