{
 "cells": [
  {
   "cell_type": "code",
   "execution_count": 2,
   "id": "3d653cb4",
   "metadata": {},
   "outputs": [
    {
     "name": "stdout",
     "output_type": "stream",
     "text": [
      "loading Roboflow workspace...\n",
      "loading Roboflow project...\n"
     ]
    },
    {
     "name": "stderr",
     "output_type": "stream",
     "text": [
      "Downloading Dataset Version Zip in Surfer-Spotting-2 to yolov11:: 100%|██████████| 260800/260800 [00:05<00:00, 51253.37it/s]"
     ]
    },
    {
     "name": "stdout",
     "output_type": "stream",
     "text": [
      "\n"
     ]
    },
    {
     "name": "stderr",
     "output_type": "stream",
     "text": [
      "\n",
      "Extracting Dataset Version Zip to Surfer-Spotting-2 in yolov11:: 100%|██████████| 71100/71100 [00:05<00:00, 13332.94it/s]\n"
     ]
    }
   ],
   "source": [
    "from roboflow import Roboflow\n",
    "rf = Roboflow(api_key=\"Ob9mLrO3fKqDwCHJu04j\")\n",
    "project = rf.workspace(\"surfline\").project(\"surfer-spotting\")\n",
    "version = project.version(2)\n",
    "dataset = version.download(\"yolov11\")"
   ]
  },
  {
   "cell_type": "code",
   "execution_count": 7,
   "id": "89274a40",
   "metadata": {},
   "outputs": [
    {
     "name": "stdout",
     "output_type": "stream",
     "text": [
      "Using device: cpu\n",
      "Using existing data configuration: /home/user/Documents/ECE140/SurfWatch/AI/train/Surfer-Spotting-2/data.yaml\n",
      "Loading pre-trained model: yolo11m.pt\n"
     ]
    }
   ],
   "source": [
    "import os\n",
    "from ultralytics import YOLO\n",
    "import yaml \n",
    "import torch\n",
    "EXISTING_DATA_YAML_PATH = \"/home/user/Documents/ECE140/SurfWatch/AI/train/Surfer-Spotting-2/data.yaml\"\n",
    "PROJECT_NAME = \"YOLOv11_Surfer_Spotting\"\n",
    "\n",
    "RUN_NAME = \"yolov11m_finetune_gpu\" \n",
    "\n",
    "\n",
    "MODEL_NAME = \"yolo11m.pt\" \n",
    "EPOCHS = 1 \n",
    "BATCH_SIZE = 16 \n",
    "IMG_SIZE = 640  \n",
    "if torch.cuda.is_available():\n",
    "    DEVICE = \"cuda\"\n",
    "else:\n",
    "    DEVICE = \"cpu\"\n",
    "print(f\"Using device: {DEVICE}\")\n",
    "\n",
    "if not os.path.exists(EXISTING_DATA_YAML_PATH):\n",
    "    print(f\"Error: Cannot find data.yaml at: {EXISTING_DATA_YAML_PATH}\")\n",
    "    print(\"Please ensure the path is correct.\")\n",
    "    exit()\n",
    "else:\n",
    "    print(f\"Using existing data configuration: {EXISTING_DATA_YAML_PATH}\")\n",
    "print(f\"Loading pre-trained model: {MODEL_NAME}\")\n",
    "model = YOLO(MODEL_NAME)\n"
   ]
  },
  {
   "cell_type": "code",
   "execution_count": null,
   "id": "b337d294",
   "metadata": {},
   "outputs": [
    {
     "name": "stdout",
     "output_type": "stream",
     "text": [
      "Starting training on device: cpu...\n",
      "Ultralytics 8.3.135 🚀 Python-3.12.10 torch-2.7.0+cu126 CPU (AMD Ryzen 7 5800HS with Radeon Graphics)\n",
      "\u001b[34m\u001b[1mengine/trainer: \u001b[0magnostic_nms=False, amp=True, augment=False, auto_augment=randaugment, batch=16, bgr=0.0, box=7.5, cache=False, cfg=None, classes=None, close_mosaic=10, cls=0.5, conf=None, copy_paste=0.0, copy_paste_mode=flip, cos_lr=False, cutmix=0.0, data=/home/user/Documents/ECE140/SurfWatch/AI/train/Surfer-Spotting-2/data.yaml, degrees=0.0, deterministic=True, device=cpu, dfl=1.5, dnn=False, dropout=0.0, dynamic=False, embed=None, epochs=1, erasing=0.4, exist_ok=False, fliplr=0.5, flipud=0.0, format=torchscript, fraction=1.0, freeze=None, half=False, hsv_h=0.015, hsv_s=0.7, hsv_v=0.4, imgsz=640, int8=False, iou=0.7, keras=False, kobj=1.0, line_width=None, lr0=0.01, lrf=0.01, mask_ratio=4, max_det=300, mixup=0.0, mode=train, model=yolo11m.pt, momentum=0.937, mosaic=1.0, multi_scale=False, name=yolov11m_finetune_gpu, nbs=64, nms=False, opset=None, optimize=False, optimizer=auto, overlap_mask=True, patience=100, perspective=0.0, plots=True, pose=12.0, pretrained=True, profile=False, project=YOLOv11_Surfer_Spotting, rect=False, resume=False, retina_masks=False, save=True, save_conf=False, save_crop=False, save_dir=YOLOv11_Surfer_Spotting/yolov11m_finetune_gpu, save_frames=False, save_json=False, save_period=-1, save_txt=False, scale=0.5, seed=0, shear=0.0, show=False, show_boxes=True, show_conf=True, show_labels=True, simplify=True, single_cls=False, source=None, split=val, stream_buffer=False, task=detect, time=None, tracker=botsort.yaml, translate=0.1, val=True, verbose=True, vid_stride=1, visualize=False, warmup_bias_lr=0.1, warmup_epochs=3.0, warmup_momentum=0.8, weight_decay=0.0005, workers=8, workspace=None\n",
      "Downloading https://ultralytics.com/assets/Arial.ttf to '/home/user/.config/Ultralytics/Arial.ttf'...\n"
     ]
    },
    {
     "name": "stderr",
     "output_type": "stream",
     "text": [
      "100%|██████████| 755k/755k [00:00<00:00, 11.9MB/s]"
     ]
    },
    {
     "name": "stdout",
     "output_type": "stream",
     "text": [
      "Overriding model.yaml nc=80 with nc=1\n",
      "\n",
      "                   from  n    params  module                                       arguments                     \n",
      "  0                  -1  1      1856  ultralytics.nn.modules.conv.Conv             [3, 64, 3, 2]                 \n",
      "  1                  -1  1     73984  ultralytics.nn.modules.conv.Conv             [64, 128, 3, 2]               \n",
      "  2                  -1  1    111872  ultralytics.nn.modules.block.C3k2            [128, 256, 1, True, 0.25]     \n",
      "  3                  -1  1    590336  ultralytics.nn.modules.conv.Conv             [256, 256, 3, 2]              \n",
      "  4                  -1  1    444928  ultralytics.nn.modules.block.C3k2            [256, 512, 1, True, 0.25]     \n",
      "  5                  -1  1   2360320  ultralytics.nn.modules.conv.Conv             [512, 512, 3, 2]              \n",
      "  6                  -1  1   1380352  ultralytics.nn.modules.block.C3k2            [512, 512, 1, True]           \n",
      "  7                  -1  1   2360320  ultralytics.nn.modules.conv.Conv             [512, 512, 3, 2]              \n"
     ]
    },
    {
     "name": "stderr",
     "output_type": "stream",
     "text": [
      "\n"
     ]
    },
    {
     "name": "stdout",
     "output_type": "stream",
     "text": [
      "  8                  -1  1   1380352  ultralytics.nn.modules.block.C3k2            [512, 512, 1, True]           \n",
      "  9                  -1  1    656896  ultralytics.nn.modules.block.SPPF            [512, 512, 5]                 \n",
      " 10                  -1  1    990976  ultralytics.nn.modules.block.C2PSA           [512, 512, 1]                 \n",
      " 11                  -1  1         0  torch.nn.modules.upsampling.Upsample         [None, 2, 'nearest']          \n",
      " 12             [-1, 6]  1         0  ultralytics.nn.modules.conv.Concat           [1]                           \n",
      " 13                  -1  1   1642496  ultralytics.nn.modules.block.C3k2            [1024, 512, 1, True]          \n",
      " 14                  -1  1         0  torch.nn.modules.upsampling.Upsample         [None, 2, 'nearest']          \n",
      " 15             [-1, 4]  1         0  ultralytics.nn.modules.conv.Concat           [1]                           \n",
      " 16                  -1  1    542720  ultralytics.nn.modules.block.C3k2            [1024, 256, 1, True]          \n",
      " 17                  -1  1    590336  ultralytics.nn.modules.conv.Conv             [256, 256, 3, 2]              \n",
      " 18            [-1, 13]  1         0  ultralytics.nn.modules.conv.Concat           [1]                           \n",
      " 19                  -1  1   1511424  ultralytics.nn.modules.block.C3k2            [768, 512, 1, True]           \n",
      " 20                  -1  1   2360320  ultralytics.nn.modules.conv.Conv             [512, 512, 3, 2]              \n",
      " 21            [-1, 10]  1         0  ultralytics.nn.modules.conv.Concat           [1]                           \n",
      " 22                  -1  1   1642496  ultralytics.nn.modules.block.C3k2            [1024, 512, 1, True]          \n",
      " 23        [16, 19, 22]  1   1411795  ultralytics.nn.modules.head.Detect           [1, [256, 512, 512]]          \n",
      "YOLO11m summary: 231 layers, 20,053,779 parameters, 20,053,763 gradients, 68.2 GFLOPs\n",
      "\n",
      "Transferred 643/649 items from pretrained weights\n",
      "Freezing layer 'model.23.dfl.conv.weight'\n",
      "\u001b[34m\u001b[1mtrain: \u001b[0mFast image access ✅ (ping: 0.0±0.0 ms, read: 23.0±11.9 MB/s, size: 5.4 KB)\n"
     ]
    },
    {
     "name": "stderr",
     "output_type": "stream",
     "text": [
      "\u001b[34m\u001b[1mtrain: \u001b[0mScanning /home/user/Documents/ECE140/SurfWatch/AI/train/Surfer-Spotting-2/train/labels... 31104 images, 19032 backgrounds, 0 corrupt: 100%|██████████| 31104/31104 [00:27<00:00, 1128.79it/s]"
     ]
    },
    {
     "name": "stdout",
     "output_type": "stream",
     "text": [
      "\u001b[34m\u001b[1mtrain: \u001b[0m/home/user/Documents/ECE140/SurfWatch/AI/train/Surfer-Spotting-2/train/images/Church_2021_02_19_1131am_frame_6_right_jpg.rf.15530d61cd2bd5cb0621448d2fc8837b.jpg: 1 duplicate labels removed\n",
      "\u001b[34m\u001b[1mtrain: \u001b[0m/home/user/Documents/ECE140/SurfWatch/AI/train/Surfer-Spotting-2/train/images/Church_2021_02_19_1131am_frame_6_right_jpg.rf.3cab2ba6042381cf652ae1ca834495b9.jpg: 1 duplicate labels removed\n",
      "\u001b[34m\u001b[1mtrain: \u001b[0m/home/user/Documents/ECE140/SurfWatch/AI/train/Surfer-Spotting-2/train/images/Church_2021_02_19_1131am_frame_6_right_jpg.rf.a1a2916347e682c5daad041c195157a4.jpg: 1 duplicate labels removed\n",
      "\u001b[34m\u001b[1mtrain: \u001b[0m/home/user/Documents/ECE140/SurfWatch/AI/train/Surfer-Spotting-2/train/images/PlesurePoint_2021_02_19_0157pm_frame_14_right_jpg.rf.1b4bf0a4a90d2897234929d66164c30e.jpg: 1 duplicate labels removed\n",
      "\u001b[34m\u001b[1mtrain: \u001b[0m/home/user/Documents/ECE140/SurfWatch/AI/train/Surfer-Spotting-2/train/images/PlesurePoint_2021_02_19_0157pm_frame_14_right_jpg.rf.98893f7d70805f4a1082f180247c2d48.jpg: 1 duplicate labels removed\n",
      "\u001b[34m\u001b[1mtrain: \u001b[0m/home/user/Documents/ECE140/SurfWatch/AI/train/Surfer-Spotting-2/train/images/PlesurePoint_2021_02_19_0157pm_frame_14_right_jpg.rf.f1d0f43c908cf594daaa7c6b980c9440.jpg: 1 duplicate labels removed\n",
      "\u001b[34m\u001b[1mtrain: \u001b[0m/home/user/Documents/ECE140/SurfWatch/AI/train/Surfer-Spotting-2/train/images/SaltCreekOverview_2021_02_19_0112pm_frame_12_left_jpg.rf.0bc2103a6a3a113ad0da66e6fb2b16ca.jpg: 1 duplicate labels removed\n",
      "\u001b[34m\u001b[1mtrain: \u001b[0m/home/user/Documents/ECE140/SurfWatch/AI/train/Surfer-Spotting-2/train/images/SaltCreekOverview_2021_02_19_0112pm_frame_12_left_jpg.rf.1215bbcbe41ef2bfe2775c28b2a38d81.jpg: 1 duplicate labels removed\n",
      "\u001b[34m\u001b[1mtrain: \u001b[0m/home/user/Documents/ECE140/SurfWatch/AI/train/Surfer-Spotting-2/train/images/SaltCreekOverview_2021_02_19_0112pm_frame_12_left_jpg.rf.b16b830c6e352e9c090567a04b9244f5.jpg: 1 duplicate labels removed\n",
      "\u001b[34m\u001b[1mtrain: \u001b[0m/home/user/Documents/ECE140/SurfWatch/AI/train/Surfer-Spotting-2/train/images/SaltCreekOverview_2021_02_19_1111am_frame_3_left_jpg.rf.05a8524524d7ed814bfb18a8b253525c.jpg: 1 duplicate labels removed\n",
      "\u001b[34m\u001b[1mtrain: \u001b[0m/home/user/Documents/ECE140/SurfWatch/AI/train/Surfer-Spotting-2/train/images/SanClementeStateBeach_2021_02_19_1224pm_frame_6_right_jpg.rf.9140a6be52ceb4005850f4801f846b27.jpg: 1 duplicate labels removed\n",
      "\u001b[34m\u001b[1mtrain: \u001b[0m/home/user/Documents/ECE140/SurfWatch/AI/train/Surfer-Spotting-2/train/images/SanClementeStateBeach_2021_02_19_1224pm_frame_6_right_jpg.rf.bc33352ce48bc69176c2f8ba64cc0c52.jpg: 1 duplicate labels removed\n",
      "\u001b[34m\u001b[1mtrain: \u001b[0m/home/user/Documents/ECE140/SurfWatch/AI/train/Surfer-Spotting-2/train/images/UpperTrestles_2021_02_19_1143am_frame_16_left_jpg.rf.e3ed268fc519ef4d8886ddcca9177f6e.jpg: 1 duplicate labels removed\n",
      "\u001b[34m\u001b[1mtrain: \u001b[0m/home/user/Documents/ECE140/SurfWatch/AI/train/Surfer-Spotting-2/train/images/UpperTrestles_2021_02_19_1143am_frame_16_left_jpg.rf.ea8705a373989a552cd1e789146c2325.jpg: 1 duplicate labels removed\n"
     ]
    },
    {
     "name": "stderr",
     "output_type": "stream",
     "text": [
      "\n"
     ]
    },
    {
     "name": "stdout",
     "output_type": "stream",
     "text": [
      "\u001b[34m\u001b[1mtrain: \u001b[0mNew cache created: /home/user/Documents/ECE140/SurfWatch/AI/train/Surfer-Spotting-2/train/labels.cache\n",
      "\u001b[34m\u001b[1mval: \u001b[0mFast image access ✅ (ping: 0.0±0.0 ms, read: 26.4±12.8 MB/s, size: 4.2 KB)\n"
     ]
    },
    {
     "name": "stderr",
     "output_type": "stream",
     "text": [
      "/home/user/Documents/ECE140/SurfWatch/.venv/lib/python3.12/site-packages/torch/utils/data/dataloader.py:665: UserWarning: 'pin_memory' argument is set as true but no accelerator is found, then device pinned memory won't be used.\n",
      "  warnings.warn(warn_msg)\n",
      "\u001b[34m\u001b[1mval: \u001b[0mScanning /home/user/Documents/ECE140/SurfWatch/AI/train/Surfer-Spotting-2/valid/labels... 2960 images, 1531 backgrounds, 0 corrupt: 100%|██████████| 2960/2960 [00:02<00:00, 1088.80it/s]"
     ]
    },
    {
     "name": "stdout",
     "output_type": "stream",
     "text": [
      "\u001b[34m\u001b[1mval: \u001b[0m/home/user/Documents/ECE140/SurfWatch/AI/train/Surfer-Spotting-2/valid/images/SanClementeStateBeach_2021_02_19_1224pm_frame_16_right_jpg.rf.66096cfb0218aa39c88aa4d70cb29641.jpg: 1 duplicate labels removed\n"
     ]
    },
    {
     "name": "stderr",
     "output_type": "stream",
     "text": [
      "\n"
     ]
    },
    {
     "name": "stdout",
     "output_type": "stream",
     "text": [
      "\u001b[34m\u001b[1mval: \u001b[0mNew cache created: /home/user/Documents/ECE140/SurfWatch/AI/train/Surfer-Spotting-2/valid/labels.cache\n"
     ]
    },
    {
     "name": "stderr",
     "output_type": "stream",
     "text": [
      "/home/user/Documents/ECE140/SurfWatch/.venv/lib/python3.12/site-packages/torch/utils/data/dataloader.py:665: UserWarning: 'pin_memory' argument is set as true but no accelerator is found, then device pinned memory won't be used.\n",
      "  warnings.warn(warn_msg)\n"
     ]
    },
    {
     "name": "stdout",
     "output_type": "stream",
     "text": [
      "Plotting labels to YOLOv11_Surfer_Spotting/yolov11m_finetune_gpu/labels.jpg... \n",
      "\u001b[34m\u001b[1moptimizer:\u001b[0m 'optimizer=auto' found, ignoring 'lr0=0.01' and 'momentum=0.937' and determining best 'optimizer', 'lr0' and 'momentum' automatically... \n",
      "\u001b[34m\u001b[1moptimizer:\u001b[0m AdamW(lr=0.002, momentum=0.9) with parameter groups 106 weight(decay=0.0), 113 weight(decay=0.0005), 112 bias(decay=0.0)\n",
      "Image sizes 640 train, 640 val\n",
      "Using 0 dataloader workers\n",
      "Logging results to \u001b[1mYOLOv11_Surfer_Spotting/yolov11m_finetune_gpu\u001b[0m\n",
      "Starting training for 1 epochs...\n",
      "\n",
      "      Epoch    GPU_mem   box_loss   cls_loss   dfl_loss  Instances       Size\n"
     ]
    },
    {
     "name": "stderr",
     "output_type": "stream",
     "text": [
      "        1/1         0G      2.845      7.178      1.241         82        640:   0%|          | 3/1944 [01:29<16:04:14, 29.81s/it]"
     ]
    }
   ],
   "source": [
    "print(f\"Starting training on device: {DEVICE}...\")\n",
    "try:\n",
    "    results = model.train(\n",
    "        data=EXISTING_DATA_YAML_PATH, \n",
    "        epochs=EPOCHS,\n",
    "        imgsz=IMG_SIZE,\n",
    "        batch=BATCH_SIZE,\n",
    "        project=PROJECT_NAME,\n",
    "        name=RUN_NAME,\n",
    "        device=DEVICE, \n",
    "    )\n",
    "    print(\"Training finished.\")\n",
    "    print(f\"Results saved to: {results.save_dir}\")\n",
    "\n",
    "except Exception as e:\n",
    "    print(f\"An error occurred during training: {e}\")\n",
    "    if \"CUDA\" in str(e):\n",
    "        print(\n",
    "            \"A CUDA-related error occurred. Ensure CUDA is installed correctly, \"\n",
    "            \"your NVIDIA drivers are up to date, and PyTorch with CUDA support is installed.\"\n",
    "        )\n",
    "        print(\n",
    "            \"You can check PyTorch CUDA availability with: python -c 'import torch; print(torch.cuda.is_available())'\"\n",
    "        )\n",
    "\n",
    "#Eval\n",
    "print(\n",
    "    f\"\\nAttempting evaluation on the test set (if defined in YAML) using device: {DEVICE}...\"\n",
    ")\n",
    "try:\n",
    "   \n",
    "    best_model_path = os.path.join(\n",
    "        PROJECT_NAME, RUN_NAME, \"weights\", \"best.pt\"\n",
    "    )\n",
    "    if os.path.exists(best_model_path):\n",
    "        print(f\"Loading best weights from: {best_model_path}\")\n",
    "        model = YOLO(best_model_path)\n",
    "        metrics = model.val(\n",
    "            data=EXISTING_DATA_YAML_PATH, split=\"test\", device=DEVICE\n",
    "        )\n",
    "\n",
    "        print(\"Test Set Evaluation Metrics:\")\n",
    "\n",
    "        print(f\"  mAP50-95: {metrics.box.map:.4f}\")\n",
    "        print(f\"  mAP50: {metrics.box.map50:.4f}\")\n",
    "        print(f\"  mAP75: {metrics.box.map75:.4f}\")\n",
    "        \n",
    "    else:\n",
    "        print(\n",
    "            f\"Could not find best model weights at {best_model_path}. Skipping test set evaluation.\"\n",
    "        )\n",
    "except Exception as e:\n",
    "    print(f\"An error occurred during test set evaluation: {e}\")\n",
    "    print(\n",
    "        \"Ensure the 'test' key and path are correctly specified in your data.yaml if you want to evaluate.\"\n",
    "    )\n",
    "\n",
    "\n",
    "print(\"\\nScript finished.\")\n"
   ]
  }
 ],
 "metadata": {
  "kernelspec": {
   "display_name": ".venv",
   "language": "python",
   "name": "python3"
  },
  "language_info": {
   "codemirror_mode": {
    "name": "ipython",
    "version": 3
   },
   "file_extension": ".py",
   "mimetype": "text/x-python",
   "name": "python",
   "nbconvert_exporter": "python",
   "pygments_lexer": "ipython3",
   "version": "3.12.10"
  }
 },
 "nbformat": 4,
 "nbformat_minor": 5
}
