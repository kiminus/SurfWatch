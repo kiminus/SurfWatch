{
 "cells": [
  {
   "cell_type": "code",
   "execution_count": 1,
   "id": "102b94bd",
   "metadata": {},
   "outputs": [],
   "source": [
    "from ultralytics import YOLO\n",
    "from PIL import Image"
   ]
  },
  {
   "cell_type": "code",
   "execution_count": 2,
   "id": "66924bd3",
   "metadata": {},
   "outputs": [],
   "source": [
    "try:\n",
    "    model = YOLO(\"best.pt\")\n",
    "except Exception as e:\n",
    "    print(f\"Error with loading model: {e}\")"
   ]
  },
  {
   "cell_type": "code",
   "execution_count": 3,
   "id": "f799f297",
   "metadata": {},
   "outputs": [],
   "source": [
    "image_path = \"/home/user/Documents/ECE140/SurfWatch/AI/train/Surfer-Spotting-2/test/images/Church_2021_02_19_0112pm_frame_20_right_jpg.rf.2efd810b6c2b80ca1fddf30a3f14a2af.jpg\""
   ]
  },
  {
   "cell_type": "code",
   "execution_count": 13,
   "id": "59d081e7",
   "metadata": {},
   "outputs": [
    {
     "name": "stdout",
     "output_type": "stream",
     "text": [
      "\n",
      "image 1/1 /home/user/Documents/ECE140/SurfWatch/AI/train/Surfer-Spotting-2/test/images/Church_2021_02_19_0112pm_frame_20_right_jpg.rf.2efd810b6c2b80ca1fddf30a3f14a2af.jpg: 320x320 6 surfers, 127.2ms\n",
      "Speed: 1.4ms preprocess, 127.2ms inference, 0.7ms postprocess per image at shape (1, 3, 320, 320)\n",
      "Results saved to \u001b[1m/home/user/Documents/ECE140/SurfWatch/runs/detect/predict2\u001b[0m\n",
      "Inference complete.\n"
     ]
    }
   ],
   "source": [
    "try:\n",
    "    \n",
    "    results = model.predict(source=image_path, save=True, conf=0.05, device='cpu', imgsz=320)\n",
    "    print(\"Inference complete.\")\n",
    "except Exception as e:\n",
    "    print(f\"Error during inference: {e}\")\n",
    "    exit()"
   ]
  },
  {
   "cell_type": "code",
   "execution_count": 14,
   "id": "ab3e8c41",
   "metadata": {},
   "outputs": [
    {
     "data": {
      "text/plain": [
       "ultralytics.engine.results.Results object with attributes:\n",
       "\n",
       "boxes: ultralytics.engine.results.Boxes object\n",
       "keypoints: None\n",
       "masks: None\n",
       "names: {0: 'surfer'}\n",
       "obb: None\n",
       "orig_img: array([[[173, 170, 165],\n",
       "        [173, 170, 165],\n",
       "        [173, 170, 165],\n",
       "        ...,\n",
       "        [179, 177, 167],\n",
       "        [179, 177, 167],\n",
       "        [179, 177, 167]],\n",
       "\n",
       "       [[173, 170, 165],\n",
       "        [173, 170, 165],\n",
       "        [173, 170, 165],\n",
       "        ...,\n",
       "        [179, 177, 167],\n",
       "        [179, 177, 167],\n",
       "        [179, 177, 167]],\n",
       "\n",
       "       [[173, 170, 165],\n",
       "        [173, 170, 165],\n",
       "        [173, 170, 165],\n",
       "        ...,\n",
       "        [178, 177, 167],\n",
       "        [178, 177, 167],\n",
       "        [178, 177, 167]],\n",
       "\n",
       "       ...,\n",
       "\n",
       "       [[124, 115,  82],\n",
       "        [127, 118,  85],\n",
       "        [126, 117,  84],\n",
       "        ...,\n",
       "        [118, 109,  76],\n",
       "        [119, 110,  77],\n",
       "        [118, 109,  76]],\n",
       "\n",
       "       [[108,  99,  66],\n",
       "        [110, 101,  68],\n",
       "        [112, 103,  70],\n",
       "        ...,\n",
       "        [127, 118,  85],\n",
       "        [124, 115,  82],\n",
       "        [121, 112,  79]],\n",
       "\n",
       "       [[127, 118,  85],\n",
       "        [124, 115,  82],\n",
       "        [121, 112,  79],\n",
       "        ...,\n",
       "        [120, 111,  78],\n",
       "        [117, 108,  75],\n",
       "        [112, 103,  70]]], shape=(224, 224, 3), dtype=uint8)\n",
       "orig_shape: (224, 224)\n",
       "path: '/home/user/Documents/ECE140/SurfWatch/AI/train/Surfer-Spotting-2/test/images/Church_2021_02_19_0112pm_frame_20_right_jpg.rf.2efd810b6c2b80ca1fddf30a3f14a2af.jpg'\n",
       "probs: None\n",
       "save_dir: '/home/user/Documents/ECE140/SurfWatch/runs/detect/predict2'\n",
       "speed: {'preprocess': 1.411510000252747, 'inference': 127.15795999974944, 'postprocess': 0.7378120008070255}"
      ]
     },
     "execution_count": 14,
     "metadata": {},
     "output_type": "execute_result"
    }
   ],
   "source": [
    "results[0]"
   ]
  }
 ],
 "metadata": {
  "kernelspec": {
   "display_name": ".venv",
   "language": "python",
   "name": "python3"
  },
  "language_info": {
   "codemirror_mode": {
    "name": "ipython",
    "version": 3
   },
   "file_extension": ".py",
   "mimetype": "text/x-python",
   "name": "python",
   "nbconvert_exporter": "python",
   "pygments_lexer": "ipython3",
   "version": "3.12.10"
  }
 },
 "nbformat": 4,
 "nbformat_minor": 5
}
