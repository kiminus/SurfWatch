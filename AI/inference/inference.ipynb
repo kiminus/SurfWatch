{
 "cells": [
  {
   "cell_type": "code",
   "execution_count": 4,
   "id": "102b94bd",
   "metadata": {},
   "outputs": [],
   "source": [
    "from ultralytics import YOLO\n",
    "from PIL import Image"
   ]
  },
  {
   "cell_type": "code",
   "execution_count": 5,
   "id": "66924bd3",
   "metadata": {},
   "outputs": [],
   "source": [
    "try:\n",
    "    model = YOLO(\"best.pt\")\n",
    "except Exception as e:\n",
    "    print(f\"Error with loading model: {e}\")"
   ]
  },
  {
   "cell_type": "code",
   "execution_count": null,
   "id": "f799f297",
   "metadata": {},
   "outputs": [],
   "source": []
  }
 ],
 "metadata": {
  "kernelspec": {
   "display_name": ".venv",
   "language": "python",
   "name": "python3"
  },
  "language_info": {
   "codemirror_mode": {
    "name": "ipython",
    "version": 3
   },
   "file_extension": ".py",
   "mimetype": "text/x-python",
   "name": "python",
   "nbconvert_exporter": "python",
   "pygments_lexer": "ipython3",
   "version": "3.12.10"
  }
 },
 "nbformat": 4,
 "nbformat_minor": 5
}
